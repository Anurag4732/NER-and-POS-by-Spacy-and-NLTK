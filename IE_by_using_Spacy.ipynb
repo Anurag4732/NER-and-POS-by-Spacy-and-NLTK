{
  "nbformat": 4,
  "nbformat_minor": 0,
  "metadata": {
    "colab": {
      "name": "IE by using Spacy.ipynb",
      "provenance": [],
      "collapsed_sections": []
    },
    "kernelspec": {
      "name": "python3",
      "display_name": "Python 3"
    }
  },
  "cells": [
    {
      "cell_type": "code",
      "metadata": {
        "id": "6DSKixGiABr4",
        "colab_type": "code",
        "colab": {}
      },
      "source": [
        "import spacy\n",
        "sp = spacy.load('en_core_web_sm') # starting = 'en' means English, last 'sm' means small\n",
        "# In the script above we use the load function from the spacy library to load the core English language model. The model is stored in the sp variable."
      ],
      "execution_count": 0,
      "outputs": []
    },
    {
      "cell_type": "code",
      "metadata": {
        "id": "Uin1Z8yKkW9F",
        "colab_type": "code",
        "outputId": "dca70ff0-2e75-46fb-a58f-a703fe38ff16",
        "colab": {
          "base_uri": "https://localhost:8080/",
          "height": 272
        }
      },
      "source": [
        "# Word tokenizer:-\n",
        "doc = sp(\"Apple is looking at buying U.K. startup for $1 billion\")\n",
        "for token in doc: ## SpaCy automatically breaks your document into tokens when a document is created using the model.\n",
        "  print(token)    ## print(token.text)\n",
        "\n",
        "## doc = \"Apple is looking at buying U.K. startup for $1 billion\"\n",
        "## for token in doc: \n",
        "##   print(token)\n",
        "print('#######')\n",
        "# Sentence tokenizer:-\n",
        "corpus = sp('hey anurag. how are you. can we meet, again')\n",
        "for sentence in corpus.sents:\n",
        "  print(sentence)"
      ],
      "execution_count": 3,
      "outputs": [
        {
          "output_type": "stream",
          "text": [
            "Apple\n",
            "is\n",
            "looking\n",
            "at\n",
            "buying\n",
            "U.K.\n",
            "startup\n",
            "for\n",
            "$\n",
            "1\n",
            "billion\n",
            "#######\n",
            "hey anurag.\n",
            "how are you.\n",
            "can we meet, again\n"
          ],
          "name": "stdout"
        }
      ]
    },
    {
      "cell_type": "code",
      "metadata": {
        "id": "CjWdPddvUP9_",
        "colab_type": "code",
        "colab": {}
      },
      "source": [
        "#############################################################"
      ],
      "execution_count": 0,
      "outputs": []
    },
    {
      "cell_type": "code",
      "metadata": {
        "id": "DBHnNlWb8C4d",
        "colab_type": "code",
        "outputId": "80799a79-47a2-4b8d-ac37-77bb5e5edf79",
        "colab": {
          "base_uri": "https://localhost:8080/",
          "height": 68
        }
      },
      "source": [
        "## Stop Words\n",
        "import nltk\n",
        "from nltk.corpus import stopwords\n",
        "nltk.download('stopwords')\n",
        "len(stopwords.words('english'))"
      ],
      "execution_count": 8,
      "outputs": [
        {
          "output_type": "stream",
          "text": [
            "[nltk_data] Downloading package stopwords to /root/nltk_data...\n",
            "[nltk_data]   Unzipping corpora/stopwords.zip.\n"
          ],
          "name": "stdout"
        },
        {
          "output_type": "execute_result",
          "data": {
            "text/plain": [
              "179"
            ]
          },
          "metadata": {
            "tags": []
          },
          "execution_count": 8
        }
      ]
    },
    {
      "cell_type": "code",
      "metadata": {
        "id": "EewFrzov8DJX",
        "colab_type": "code",
        "outputId": "c43d4697-ea25-40a4-ae9d-a55f1e7dca4a",
        "colab": {
          "base_uri": "https://localhost:8080/",
          "height": 34
        }
      },
      "source": [
        "len(set(stopwords.words('english')))"
      ],
      "execution_count": 9,
      "outputs": [
        {
          "output_type": "execute_result",
          "data": {
            "text/plain": [
              "179"
            ]
          },
          "metadata": {
            "tags": []
          },
          "execution_count": 9
        }
      ]
    },
    {
      "cell_type": "code",
      "metadata": {
        "id": "J6oFubX08DQt",
        "colab_type": "code",
        "outputId": "3a0ff14a-209c-4711-911c-3a2f56ec5013",
        "colab": {
          "base_uri": "https://localhost:8080/",
          "height": 34
        }
      },
      "source": [
        "spacy_stopwords = spacy.lang.en.stop_words.STOP_WORDS\n",
        "len(spacy_stopwords)"
      ],
      "execution_count": 10,
      "outputs": [
        {
          "output_type": "execute_result",
          "data": {
            "text/plain": [
              "326"
            ]
          },
          "metadata": {
            "tags": []
          },
          "execution_count": 10
        }
      ]
    },
    {
      "cell_type": "code",
      "metadata": {
        "id": "oaVgoL2y8DY7",
        "colab_type": "code",
        "outputId": "0bcb7ccc-c78f-462b-a55e-b2719d1ccd8a",
        "colab": {
          "base_uri": "https://localhost:8080/",
          "height": 156
        }
      },
      "source": [
        "# Remove stopwords bt using NLTK and spacy:-\n",
        "sent = 'The university was founded in 1885 by Leland and Jane Stanford in memory of their only child, Leland Stanford Jr., who had died of typhoid fever at age 15 the previous year. Stanford was a former Governor of California and U.S. Senator; he made his fortune as a railroad tycoon. The school admitted its first students on October 1, 1891,[2][3] as a coeducational and non-denominational institution.'\n",
        "print(sent)\n",
        "nltk.download('punkt')\n",
        "print('By NLTK:-')\n",
        "print(' '.join([word for word in nltk.word_tokenize(sent) if word not in stopwords.words('english')]))\n",
        "\n",
        "print('By SPACY:-')\n",
        "sent = sp('The university was founded in 1885 by Leland and Jane Stanford in memory of their only child, Leland Stanford Jr., who had died of typhoid fever at age 15 the previous year. Stanford was a former Governor of California and U.S. Senator; he made his fortune as a railroad tycoon. The school admitted its first students on October 1, 1891,[2][3] as a coeducational and non-denominational institution.')\n",
        "print(' '.join([str(word.text) for word in sent if word.text not in spacy_stopwords]))"
      ],
      "execution_count": 13,
      "outputs": [
        {
          "output_type": "stream",
          "text": [
            "The university was founded in 1885 by Leland and Jane Stanford in memory of their only child, Leland Stanford Jr., who had died of typhoid fever at age 15 the previous year. Stanford was a former Governor of California and U.S. Senator; he made his fortune as a railroad tycoon. The school admitted its first students on October 1, 1891,[2][3] as a coeducational and non-denominational institution.\n",
            "[nltk_data] Downloading package punkt to /root/nltk_data...\n",
            "[nltk_data]   Unzipping tokenizers/punkt.zip.\n",
            "By NLTK:-\n",
            "The university founded 1885 Leland Jane Stanford memory child , Leland Stanford Jr. , died typhoid fever age 15 previous year . Stanford former Governor California U.S . Senator ; made fortune railroad tycoon . The school admitted first students October 1 , 1891 , [ 2 ] [ 3 ] coeducational non-denominational institution .\n",
            "By SPACY:-\n",
            "The university founded 1885 Leland Jane Stanford memory child , Leland Stanford Jr. , died typhoid fever age 15 previous year . Stanford Governor California U.S. Senator ; fortune railroad tycoon . The school admitted students October 1 , 1891,[2][3 ] coeducational non - denominational institution .\n"
          ],
          "name": "stdout"
        }
      ]
    },
    {
      "cell_type": "code",
      "metadata": {
        "id": "VvfhKdKI9g24",
        "colab_type": "code",
        "outputId": "6128776a-974e-45c2-d746-90231a85f278",
        "colab": {
          "base_uri": "https://localhost:8080/",
          "height": 68
        }
      },
      "source": [
        "for word in sp('Hey are you coming Anurag'):\n",
        "  if word.text not in spacy_stopwords:\n",
        "    print(word)"
      ],
      "execution_count": 14,
      "outputs": [
        {
          "output_type": "stream",
          "text": [
            "Hey\n",
            "coming\n",
            "Anurag\n"
          ],
          "name": "stdout"
        }
      ]
    },
    {
      "cell_type": "code",
      "metadata": {
        "id": "qxiSX5ibDDSK",
        "colab_type": "code",
        "outputId": "990e6a86-3f92-42f6-937b-82cc69984f9c",
        "colab": {
          "base_uri": "https://localhost:8080/",
          "height": 34
        }
      },
      "source": [
        "'are' not in spacy_stopwords"
      ],
      "execution_count": 15,
      "outputs": [
        {
          "output_type": "execute_result",
          "data": {
            "text/plain": [
              "False"
            ]
          },
          "metadata": {
            "tags": []
          },
          "execution_count": 15
        }
      ]
    },
    {
      "cell_type": "code",
      "metadata": {
        "id": "FGx4HvnSDFqz",
        "colab_type": "code",
        "colab": {}
      },
      "source": [
        "###################################################################"
      ],
      "execution_count": 0,
      "outputs": []
    },
    {
      "cell_type": "code",
      "metadata": {
        "id": "z9_IvzP1AeDf",
        "colab_type": "code",
        "outputId": "b72a2300-fc53-45f8-8f21-2408637afe1e",
        "colab": {
          "base_uri": "https://localhost:8080/",
          "height": 34
        }
      },
      "source": [
        "# POS tagging:-\n",
        "doc[1].lemma_, doc[1].pos_"
      ],
      "execution_count": 17,
      "outputs": [
        {
          "output_type": "execute_result",
          "data": {
            "text/plain": [
              "('be', 'AUX')"
            ]
          },
          "metadata": {
            "tags": []
          },
          "execution_count": 17
        }
      ]
    },
    {
      "cell_type": "code",
      "metadata": {
        "id": "E4y0BmkB9ip2",
        "colab_type": "code",
        "outputId": "503d4429-2486-4497-a26c-f49528bc8b80",
        "colab": {
          "base_uri": "https://localhost:8080/",
          "height": 204
        }
      },
      "source": [
        "for word in doc:\n",
        "  print(word, word.pos_)"
      ],
      "execution_count": 18,
      "outputs": [
        {
          "output_type": "stream",
          "text": [
            "Apple PROPN\n",
            "is AUX\n",
            "looking VERB\n",
            "at ADP\n",
            "buying VERB\n",
            "U.K. PROPN\n",
            "startup NOUN\n",
            "for ADP\n",
            "$ SYM\n",
            "1 NUM\n",
            "billion NUM\n"
          ],
          "name": "stdout"
        }
      ]
    },
    {
      "cell_type": "code",
      "metadata": {
        "id": "kOE445sia64K",
        "colab_type": "code",
        "colab": {
          "base_uri": "https://localhost:8080/",
          "height": 204
        },
        "outputId": "6686ddc2-ec89-44a9-8be0-0fec84952a31"
      },
      "source": [
        "# Explain tag:-\n",
        "## tag_ lists the fine-grained part of speech.\n",
        "## pos_ lists the coarse-grained part of speech.\n",
        "\n",
        "for word in doc:\n",
        "  print(word,',', word.tag_, ',', word.pos_, ',', spacy.explain(word.tag_))"
      ],
      "execution_count": 21,
      "outputs": [
        {
          "output_type": "stream",
          "text": [
            "Apple , NNP , PROPN , noun, proper singular\n",
            "is , VBZ , AUX , verb, 3rd person singular present\n",
            "looking , VBG , VERB , verb, gerund or present participle\n",
            "at , IN , ADP , conjunction, subordinating or preposition\n",
            "buying , VBG , VERB , verb, gerund or present participle\n",
            "U.K. , NNP , PROPN , noun, proper singular\n",
            "startup , NN , NOUN , noun, singular or mass\n",
            "for , IN , ADP , conjunction, subordinating or preposition\n",
            "$ , $ , SYM , symbol, currency\n",
            "1 , CD , NUM , cardinal number\n",
            "billion , CD , NUM , cardinal number\n"
          ],
          "name": "stdout"
        }
      ]
    },
    {
      "cell_type": "code",
      "metadata": {
        "id": "A1CNX7Uha6aJ",
        "colab_type": "code",
        "colab": {
          "base_uri": "https://localhost:8080/",
          "height": 204
        },
        "outputId": "443d1e23-cc67-495d-99d1-4bf1d672cd3b"
      },
      "source": [
        "# Explain POS:-\n",
        "for word in doc:\n",
        "  print(word,',', word.tag_, ',', word.pos_, ',', spacy.explain(word.pos_))"
      ],
      "execution_count": 22,
      "outputs": [
        {
          "output_type": "stream",
          "text": [
            "Apple , NNP , PROPN , proper noun\n",
            "is , VBZ , AUX , auxiliary\n",
            "looking , VBG , VERB , verb\n",
            "at , IN , ADP , adposition\n",
            "buying , VBG , VERB , verb\n",
            "U.K. , NNP , PROPN , proper noun\n",
            "startup , NN , NOUN , noun\n",
            "for , IN , ADP , adposition\n",
            "$ , $ , SYM , symbol\n",
            "1 , CD , NUM , numeral\n",
            "billion , CD , NUM , numeral\n"
          ],
          "name": "stdout"
        }
      ]
    },
    {
      "cell_type": "code",
      "metadata": {
        "id": "dz_JzpK1UU-C",
        "colab_type": "code",
        "colab": {}
      },
      "source": [
        "####################################################################"
      ],
      "execution_count": 0,
      "outputs": []
    },
    {
      "cell_type": "code",
      "metadata": {
        "id": "cAMj-Xwy0Txd",
        "colab_type": "code",
        "outputId": "0388ed95-d777-4187-aa3b-8630d502d3cf",
        "colab": {
          "base_uri": "https://localhost:8080/",
          "height": 119
        }
      },
      "source": [
        "# NER:-\n",
        "doc = sp(\"Apple is looking at buying U.K. startup for $1 billion\")\n",
        "for entity in doc.ents:\n",
        "  print(entity)  ## These are the entity\n",
        "\n",
        "for entity in doc.ents:\n",
        "  print(entity,':-', entity.label_)"
      ],
      "execution_count": 0,
      "outputs": [
        {
          "output_type": "stream",
          "text": [
            "Apple\n",
            "U.K.\n",
            "$1 billion\n",
            "Apple :- ORG\n",
            "U.K. :- GPE\n",
            "$1 billion :- MONEY\n"
          ],
          "name": "stdout"
        }
      ]
    },
    {
      "cell_type": "code",
      "metadata": {
        "id": "ksOW4C3T4uw-",
        "colab_type": "code",
        "outputId": "4e896096-2097-491f-b45b-94d36aea1ad8",
        "colab": {
          "base_uri": "https://localhost:8080/",
          "height": 187
        }
      },
      "source": [
        "sent = sp('The university was founded in 1885 by Leland and Jane Stanford in memory of their only child, Leland Stanford Jr., who had died of typhoid fever at age 15 the previous year. Stanford was a former Governor of California and U.S. Senator; he made his fortune as a railroad tycoon. The school admitted its first students on October 1, 1891,[2][3] as a coeducational and non-denominational institution.')\n",
        "for entity in sent.ents:\n",
        "  print((entity, entity.label_))"
      ],
      "execution_count": 0,
      "outputs": [
        {
          "output_type": "stream",
          "text": [
            "(1885, 'DATE')\n",
            "(Leland, 'ORG')\n",
            "(Jane Stanford, 'PERSON')\n",
            "(Leland Stanford Jr., 'PERSON')\n",
            "(age 15 the previous year, 'DATE')\n",
            "(Stanford, 'ORG')\n",
            "(California, 'GPE')\n",
            "(U.S., 'GPE')\n",
            "(first, 'ORDINAL')\n",
            "(October 1, 1891,[2][3, 'DATE')\n"
          ],
          "name": "stdout"
        }
      ]
    },
    {
      "cell_type": "code",
      "metadata": {
        "id": "AYjggSLW0UnC",
        "colab_type": "code",
        "colab": {}
      },
      "source": [
        ""
      ],
      "execution_count": 0,
      "outputs": []
    },
    {
      "cell_type": "code",
      "metadata": {
        "id": "PDZGnWoXUcUr",
        "colab_type": "code",
        "colab": {}
      },
      "source": [
        ""
      ],
      "execution_count": 0,
      "outputs": []
    },
    {
      "cell_type": "code",
      "metadata": {
        "id": "W_vC7fVQUcJt",
        "colab_type": "code",
        "colab": {}
      },
      "source": [
        ""
      ],
      "execution_count": 0,
      "outputs": []
    },
    {
      "cell_type": "code",
      "metadata": {
        "id": "D7vpkw76UcEG",
        "colab_type": "code",
        "colab": {}
      },
      "source": [
        ""
      ],
      "execution_count": 0,
      "outputs": []
    },
    {
      "cell_type": "code",
      "metadata": {
        "id": "dj6hE9NGUb7y",
        "colab_type": "code",
        "colab": {}
      },
      "source": [
        ""
      ],
      "execution_count": 0,
      "outputs": []
    },
    {
      "cell_type": "code",
      "metadata": {
        "id": "jnP6-dP5Ubuu",
        "colab_type": "code",
        "colab": {}
      },
      "source": [
        ""
      ],
      "execution_count": 0,
      "outputs": []
    },
    {
      "cell_type": "code",
      "metadata": {
        "id": "kThFPx4KEkvW",
        "colab_type": "code",
        "colab": {}
      },
      "source": [
        "# https://stackabuse.com/python-for-nlp-tokenization-stemming-and-lemmatization-with-spacy-library/\n",
        "# https://www.datacamp.com/community/blog/spacy-cheatsheet\n",
        "# https://realpython.com/natural-language-processing-spacy-python/"
      ],
      "execution_count": 0,
      "outputs": []
    },
    {
      "cell_type": "code",
      "metadata": {
        "id": "j42ftEYpGNJn",
        "colab_type": "code",
        "colab": {}
      },
      "source": [
        ""
      ],
      "execution_count": 0,
      "outputs": []
    }
  ]
}